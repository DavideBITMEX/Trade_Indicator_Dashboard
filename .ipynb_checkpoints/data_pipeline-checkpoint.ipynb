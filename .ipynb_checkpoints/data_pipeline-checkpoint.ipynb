{
  "metadata": {
    "kernelspec": {
      "name": "python",
      "display_name": "Python (Pyodide)",
      "language": "python"
    },
    "language_info": {
      "codemirror_mode": {
        "name": "python",
        "version": 3
      },
      "file_extension": ".py",
      "mimetype": "text/x-python",
      "name": "python",
      "nbconvert_exporter": "python",
      "pygments_lexer": "ipython3",
      "version": "3.8"
    }
  },
  "nbformat_minor": 4,
  "nbformat": 4,
  "cells": [
    {
      "cell_type": "code",
      "source": "import requests\nimport pandas as pd\n\n# Step 1: Fetch data from the World Bank API\napi_url = \"https://api.worldbank.org/v2/country/DE/indicator/NE.EXP.GNFS.KD.ZG?format=json\"\nresponse = requests.get(api_url)\ndata_json = response.json()",
      "metadata": {
        "trusted": true
      },
      "outputs": [
        {
          "name": "stderr",
          "text": "<ipython-input-1-54089649cd92>:2: DeprecationWarning: \nPyarrow will become a required dependency of pandas in the next major release of pandas (pandas 3.0),\n(to allow more performant data types, such as the Arrow string type, and better interoperability with other libraries)\nbut was not found to be installed on your system.\nIf this would cause problems for you,\nplease provide us feedback at https://github.com/pandas-dev/pandas/issues/54466\n        \n  import pandas as pd\n",
          "output_type": "stream"
        }
      ],
      "execution_count": 1
    },
    {
      "cell_type": "code",
      "source": "# Step 2: Convert JSON to a DataFrame\ndata_list = data_json[1]  # The second element usually holds the actual data\ndf = pd.DataFrame(data_list)\nprint(df.head())\n\n# Step 3: Clean and transform\ndf = df[['countryiso3code', 'date', 'value']]\ndf.dropna(subset=['value'], inplace=True)      # Remove rows with missing values in 'value'\ndf['value'] = df['value'].astype(float)        # Ensure the column is numeric\n\nprint(df.head())",
      "metadata": {
        "trusted": true,
        "collapsed": true,
        "jupyter": {
          "outputs_hidden": true
        }
      },
      "outputs": [
        {
          "name": "stdout",
          "text": "                                           indicator  \\\n0  {'id': 'NE.EXP.GNFS.KD.ZG', 'value': 'Exports ...   \n1  {'id': 'NE.EXP.GNFS.KD.ZG', 'value': 'Exports ...   \n2  {'id': 'NE.EXP.GNFS.KD.ZG', 'value': 'Exports ...   \n3  {'id': 'NE.EXP.GNFS.KD.ZG', 'value': 'Exports ...   \n4  {'id': 'NE.EXP.GNFS.KD.ZG', 'value': 'Exports ...   \n\n                            country countryiso3code  date     value unit  \\\n0  {'id': 'DE', 'value': 'Germany'}             DEU  2023 -0.299982        \n1  {'id': 'DE', 'value': 'Germany'}             DEU  2022  3.055101        \n2  {'id': 'DE', 'value': 'Germany'}             DEU  2021  9.980000        \n3  {'id': 'DE', 'value': 'Germany'}             DEU  2020 -9.485880        \n4  {'id': 'DE', 'value': 'Germany'}             DEU  2019  1.900018        \n\n  obs_status  decimal  \n0                   1  \n1                   1  \n2                   1  \n3                   1  \n4                   1  \n  countryiso3code  date     value\n0             DEU  2023 -0.299982\n1             DEU  2022  3.055101\n2             DEU  2021  9.980000\n3             DEU  2020 -9.485880\n4             DEU  2019  1.900018\n",
          "output_type": "stream"
        }
      ],
      "execution_count": 3
    },
    {
      "cell_type": "code",
      "source": "",
      "metadata": {
        "trusted": true
      },
      "outputs": [],
      "execution_count": null
    },
    {
      "cell_type": "code",
      "source": "",
      "metadata": {
        "trusted": true,
        "jupyter": {
          "source_hidden": true
        }
      },
      "outputs": [],
      "execution_count": null
    }
  ]
}